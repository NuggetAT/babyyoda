{
  "nbformat": 4,
  "nbformat_minor": 0,
  "metadata": {
    "colab": {
      "provenance": [],
      "collapsed_sections": [],
      "authorship_tag": "ABX9TyMCPYGr7ENXiO5MVQgDX1Og",
      "include_colab_link": true
    },
    "kernelspec": {
      "name": "python3",
      "display_name": "Python 3"
    },
    "language_info": {
      "name": "python"
    }
  },
  "cells": [
    {
      "cell_type": "markdown",
      "metadata": {
        "id": "view-in-github",
        "colab_type": "text"
      },
      "source": [
        "<a href=\"https://colab.research.google.com/github/NuggetAT/babyyoda/blob/main/fh_start.ipynb\" target=\"_parent\"><img src=\"https://colab.research.google.com/assets/colab-badge.svg\" alt=\"Open In Colab\"/></a>"
      ]
    },
    {
      "cell_type": "markdown",
      "source": [
        "das is ein versuch\n"
      ],
      "metadata": {
        "id": "LgRFFhY4Eh4j"
      }
    },
    {
      "cell_type": "code",
      "execution_count": 3,
      "metadata": {
        "colab": {
          "base_uri": "https://localhost:8080/"
        },
        "id": "rIT0FP4rEKb2",
        "outputId": "e5cc16e5-c39f-4556-a301-a3ef664f03d5"
      },
      "outputs": [
        {
          "output_type": "stream",
          "name": "stdout",
          "text": [
            "hallo\n",
            "hallo 2\n"
          ]
        }
      ],
      "source": [
        "print(\"hallo\")\n",
        "print(\"hallo 2\")"
      ]
    },
    {
      "cell_type": "code",
      "source": [],
      "metadata": {
        "id": "nJUNFIUZEvNq"
      },
      "execution_count": 4,
      "outputs": []
    }
  ]
}